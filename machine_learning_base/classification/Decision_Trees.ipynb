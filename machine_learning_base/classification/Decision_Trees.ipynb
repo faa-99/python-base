{
 "cells": [
  {
   "cell_type": "markdown",
   "metadata": {
    "id": "u-VKPLcmpGk_",
    "pycharm": {
     "name": "#%% md\n"
    }
   },
   "source": [
    "# Import Libraries"
   ]
  },
  {
   "cell_type": "code",
   "execution_count": 7,
   "metadata": {
    "id": "_u4hAJpAvfgL",
    "pycharm": {
     "name": "#%%\n"
    }
   },
   "outputs": [],
   "source": [
    "import matplotlib.pyplot as plt\n",
    "import numpy as np\n",
    "import pandas as pd\n",
    "import seaborn as sns\n",
    "\n",
    "from sklearn import tree\n",
    "from sklearn.metrics import confusion_matrix, accuracy_score\n",
    "from sklearn.preprocessing import LabelEncoder"
   ]
  },
  {
   "cell_type": "markdown",
   "metadata": {
    "id": "yxJ19DKoqUnE",
    "pycharm": {
     "name": "#%% md\n"
    }
   },
   "source": [
    "# Load the dataset"
   ]
  },
  {
   "cell_type": "code",
   "execution_count": 5,
   "metadata": {
    "colab": {
     "base_uri": "https://localhost:8080/",
     "height": 374
    },
    "id": "JC-lg2DJqWE1",
    "outputId": "c140e9a1-0805-4ecc-9a80-37e624dcc4d7",
    "pycharm": {
     "name": "#%%\n"
    }
   },
   "outputs": [
    {
     "data": {
      "text/html": [
       "<div>\n",
       "<style scoped>\n",
       "    .dataframe tbody tr th:only-of-type {\n",
       "        vertical-align: middle;\n",
       "    }\n",
       "\n",
       "    .dataframe tbody tr th {\n",
       "        vertical-align: top;\n",
       "    }\n",
       "\n",
       "    .dataframe thead th {\n",
       "        text-align: right;\n",
       "    }\n",
       "</style>\n",
       "<table border=\"1\" class=\"dataframe\">\n",
       "  <thead>\n",
       "    <tr style=\"text-align: right;\">\n",
       "      <th></th>\n",
       "      <th>Date</th>\n",
       "      <th>Year</th>\n",
       "      <th>Month</th>\n",
       "      <th>Day</th>\n",
       "      <th>Weekday</th>\n",
       "      <th>Week_Number</th>\n",
       "      <th>Year_Week</th>\n",
       "      <th>Open</th>\n",
       "      <th>High</th>\n",
       "      <th>Low</th>\n",
       "      <th>Close</th>\n",
       "      <th>Volume</th>\n",
       "      <th>Adj Close</th>\n",
       "      <th>Return</th>\n",
       "      <th>Short_MA</th>\n",
       "      <th>Long_MA</th>\n",
       "    </tr>\n",
       "  </thead>\n",
       "  <tbody>\n",
       "    <tr>\n",
       "      <th>0</th>\n",
       "      <td>2017-11-09</td>\n",
       "      <td>2017</td>\n",
       "      <td>11</td>\n",
       "      <td>9</td>\n",
       "      <td>Thursday</td>\n",
       "      <td>45</td>\n",
       "      <td>2017-45</td>\n",
       "      <td>308.64</td>\n",
       "      <td>329.45</td>\n",
       "      <td>307.06</td>\n",
       "      <td>320.88</td>\n",
       "      <td>893249984</td>\n",
       "      <td>320.88</td>\n",
       "      <td>0.000000</td>\n",
       "      <td>320.880000</td>\n",
       "      <td>320.880000</td>\n",
       "    </tr>\n",
       "    <tr>\n",
       "      <th>1</th>\n",
       "      <td>2017-11-10</td>\n",
       "      <td>2017</td>\n",
       "      <td>11</td>\n",
       "      <td>10</td>\n",
       "      <td>Friday</td>\n",
       "      <td>45</td>\n",
       "      <td>2017-45</td>\n",
       "      <td>320.67</td>\n",
       "      <td>324.72</td>\n",
       "      <td>294.54</td>\n",
       "      <td>299.25</td>\n",
       "      <td>885985984</td>\n",
       "      <td>299.25</td>\n",
       "      <td>-0.067411</td>\n",
       "      <td>310.065000</td>\n",
       "      <td>310.065000</td>\n",
       "    </tr>\n",
       "    <tr>\n",
       "      <th>2</th>\n",
       "      <td>2017-11-11</td>\n",
       "      <td>2017</td>\n",
       "      <td>11</td>\n",
       "      <td>11</td>\n",
       "      <td>Saturday</td>\n",
       "      <td>45</td>\n",
       "      <td>2017-45</td>\n",
       "      <td>298.59</td>\n",
       "      <td>319.45</td>\n",
       "      <td>298.19</td>\n",
       "      <td>314.68</td>\n",
       "      <td>842300992</td>\n",
       "      <td>314.68</td>\n",
       "      <td>0.051555</td>\n",
       "      <td>311.603333</td>\n",
       "      <td>311.603333</td>\n",
       "    </tr>\n",
       "    <tr>\n",
       "      <th>3</th>\n",
       "      <td>2017-11-12</td>\n",
       "      <td>2017</td>\n",
       "      <td>11</td>\n",
       "      <td>12</td>\n",
       "      <td>Sunday</td>\n",
       "      <td>46</td>\n",
       "      <td>2017-46</td>\n",
       "      <td>314.69</td>\n",
       "      <td>319.15</td>\n",
       "      <td>298.51</td>\n",
       "      <td>307.91</td>\n",
       "      <td>1613479936</td>\n",
       "      <td>307.91</td>\n",
       "      <td>-0.021523</td>\n",
       "      <td>310.680000</td>\n",
       "      <td>310.680000</td>\n",
       "    </tr>\n",
       "    <tr>\n",
       "      <th>4</th>\n",
       "      <td>2017-11-13</td>\n",
       "      <td>2017</td>\n",
       "      <td>11</td>\n",
       "      <td>13</td>\n",
       "      <td>Monday</td>\n",
       "      <td>46</td>\n",
       "      <td>2017-46</td>\n",
       "      <td>307.02</td>\n",
       "      <td>328.42</td>\n",
       "      <td>307.02</td>\n",
       "      <td>316.72</td>\n",
       "      <td>1041889984</td>\n",
       "      <td>316.72</td>\n",
       "      <td>0.028606</td>\n",
       "      <td>311.888000</td>\n",
       "      <td>311.888000</td>\n",
       "    </tr>\n",
       "  </tbody>\n",
       "</table>\n",
       "</div>"
      ],
      "text/plain": [
       "         Date  Year  Month  Day   Weekday  Week_Number Year_Week    Open  \\\n",
       "0  2017-11-09  2017     11    9  Thursday           45   2017-45  308.64   \n",
       "1  2017-11-10  2017     11   10    Friday           45   2017-45  320.67   \n",
       "2  2017-11-11  2017     11   11  Saturday           45   2017-45  298.59   \n",
       "3  2017-11-12  2017     11   12    Sunday           46   2017-46  314.69   \n",
       "4  2017-11-13  2017     11   13    Monday           46   2017-46  307.02   \n",
       "\n",
       "     High     Low   Close      Volume  Adj Close    Return    Short_MA  \\\n",
       "0  329.45  307.06  320.88   893249984     320.88  0.000000  320.880000   \n",
       "1  324.72  294.54  299.25   885985984     299.25 -0.067411  310.065000   \n",
       "2  319.45  298.19  314.68   842300992     314.68  0.051555  311.603333   \n",
       "3  319.15  298.51  307.91  1613479936     307.91 -0.021523  310.680000   \n",
       "4  328.42  307.02  316.72  1041889984     316.72  0.028606  311.888000   \n",
       "\n",
       "      Long_MA  \n",
       "0  320.880000  \n",
       "1  310.065000  \n",
       "2  311.603333  \n",
       "3  310.680000  \n",
       "4  311.888000  "
      ]
     },
     "execution_count": 5,
     "metadata": {},
     "output_type": "execute_result"
    }
   ],
   "source": [
    "df_stock = pd.read_csv('ETH-USD.csv')\n",
    "df_stock.head()"
   ]
  },
  {
   "cell_type": "code",
   "execution_count": 6,
   "metadata": {
    "colab": {
     "base_uri": "https://localhost:8080/",
     "height": 206
    },
    "id": "zE6PVzs_rcfi",
    "outputId": "d36d5583-5178-43dd-f5a9-ac4bba0b76f4",
    "pycharm": {
     "name": "#%%\n"
    }
   },
   "outputs": [
    {
     "data": {
      "text/html": [
       "<div>\n",
       "<style scoped>\n",
       "    .dataframe tbody tr th:only-of-type {\n",
       "        vertical-align: middle;\n",
       "    }\n",
       "\n",
       "    .dataframe tbody tr th {\n",
       "        vertical-align: top;\n",
       "    }\n",
       "\n",
       "    .dataframe thead th {\n",
       "        text-align: right;\n",
       "    }\n",
       "</style>\n",
       "<table border=\"1\" class=\"dataframe\">\n",
       "  <thead>\n",
       "    <tr style=\"text-align: right;\">\n",
       "      <th></th>\n",
       "      <th>Year</th>\n",
       "      <th>Week_Number</th>\n",
       "      <th>mean_return</th>\n",
       "      <th>volatility</th>\n",
       "      <th>label</th>\n",
       "    </tr>\n",
       "  </thead>\n",
       "  <tbody>\n",
       "    <tr>\n",
       "      <th>0</th>\n",
       "      <td>2017</td>\n",
       "      <td>45</td>\n",
       "      <td>-0.528333</td>\n",
       "      <td>5.966071</td>\n",
       "      <td>NaN</td>\n",
       "    </tr>\n",
       "    <tr>\n",
       "      <th>1</th>\n",
       "      <td>2017</td>\n",
       "      <td>46</td>\n",
       "      <td>1.477000</td>\n",
       "      <td>3.277433</td>\n",
       "      <td>NaN</td>\n",
       "    </tr>\n",
       "    <tr>\n",
       "      <th>2</th>\n",
       "      <td>2017</td>\n",
       "      <td>47</td>\n",
       "      <td>4.435143</td>\n",
       "      <td>6.128955</td>\n",
       "      <td>NaN</td>\n",
       "    </tr>\n",
       "    <tr>\n",
       "      <th>3</th>\n",
       "      <td>2017</td>\n",
       "      <td>48</td>\n",
       "      <td>0.016429</td>\n",
       "      <td>4.824342</td>\n",
       "      <td>NaN</td>\n",
       "    </tr>\n",
       "    <tr>\n",
       "      <th>4</th>\n",
       "      <td>2017</td>\n",
       "      <td>49</td>\n",
       "      <td>0.379857</td>\n",
       "      <td>4.076044</td>\n",
       "      <td>NaN</td>\n",
       "    </tr>\n",
       "  </tbody>\n",
       "</table>\n",
       "</div>"
      ],
      "text/plain": [
       "   Year  Week_Number  mean_return  volatility label\n",
       "0  2017           45    -0.528333    5.966071   NaN\n",
       "1  2017           46     1.477000    3.277433   NaN\n",
       "2  2017           47     4.435143    6.128955   NaN\n",
       "3  2017           48     0.016429    4.824342   NaN\n",
       "4  2017           49     0.379857    4.076044   NaN"
      ]
     },
     "execution_count": 6,
     "metadata": {},
     "output_type": "execute_result"
    }
   ],
   "source": [
    "df_weekly = pd.read_csv('ETH-USD_weekly_return_volatility.csv')\n",
    "df_weekly.head()"
   ]
  },
  {
   "cell_type": "markdown",
   "metadata": {
    "id": "7PAVqoelro4b",
    "pycharm": {
     "name": "#%% md\n"
    }
   },
   "source": [
    "# Train Decision Tree Classifier on Year 1 (2020)"
   ]
  },
  {
   "cell_type": "code",
   "execution_count": 8,
   "metadata": {
    "id": "MIJS5GlErxxX",
    "pycharm": {
     "name": "#%%\n"
    }
   },
   "outputs": [],
   "source": [
    "df_2020 = df_weekly[df_weekly.Year == 2020]\n",
    "X = df_2020[['mean_return', 'volatility']]\n",
    "Label = df_2020['label']\n",
    "\n",
    "le = LabelEncoder ()\n",
    "Y = le.fit_transform(Label.values)\n",
    "\n",
    "clf = tree.DecisionTreeClassifier(criterion = 'entropy')\n",
    "clf = clf.fit(X, Y)"
   ]
  },
  {
   "cell_type": "markdown",
   "metadata": {
    "id": "ICIUo_YisXiA",
    "pycharm": {
     "name": "#%% md\n"
    }
   },
   "source": [
    "# Predict labels of year 2 (2021)"
   ]
  },
  {
   "cell_type": "code",
   "execution_count": 9,
   "metadata": {
    "colab": {
     "base_uri": "https://localhost:8080/"
    },
    "id": "WdJcIhDwsauV",
    "outputId": "f51ed748-f7c4-4e31-df84-8018f37f0898",
    "pycharm": {
     "name": "#%%\n"
    }
   },
   "outputs": [
    {
     "data": {
      "text/plain": [
       "array([0, 0, 0, 0, 0, 1, 1, 0, 0, 0, 0, 0, 0, 0, 0, 1, 0, 0, 0, 0, 0, 0,\n",
       "       0, 1, 1, 1, 1, 0, 1, 0, 1, 1, 0, 0, 0, 1, 0, 0, 1, 0, 1, 0, 1, 0,\n",
       "       1, 1, 0, 1, 0, 1, 1, 1, 1])"
      ]
     },
     "execution_count": 9,
     "metadata": {},
     "output_type": "execute_result"
    }
   ],
   "source": [
    "df_2021 = df_weekly[df_weekly.Year == 2021]\n",
    "X_test, y_test = df_2021[['mean_return', 'volatility']], df_2021['label']\n",
    "\n",
    "y_pred = clf.predict(X_test)\n",
    "y_pred"
   ]
  },
  {
   "cell_type": "markdown",
   "metadata": {
    "id": "SKpbQP1htZv8",
    "pycharm": {
     "name": "#%% md\n"
    }
   },
   "source": [
    "# Confusion Matrix"
   ]
  },
  {
   "cell_type": "code",
   "execution_count": 10,
   "metadata": {
    "colab": {
     "base_uri": "https://localhost:8080/",
     "height": 269
    },
    "id": "EN1V7K_4tbgZ",
    "outputId": "3375cd25-6ffa-482c-bf4c-d3496704e341",
    "pycharm": {
     "name": "#%%\n"
    }
   },
   "outputs": [
    {
     "data": {
      "image/png": "[encoded data removed]",
      "text/plain": [
       "<Figure size 640x480 with 2 Axes>"
      ]
     },
     "metadata": {},
     "output_type": "display_data"
    }
   ],
   "source": [
    "y = le.transform(y_test)\n",
    "cm = confusion_matrix(y, y_pred)\n",
    "sns.heatmap(cm, annot=True)\n",
    "plt.show()"
   ]
  },
  {
   "cell_type": "markdown",
   "metadata": {
    "id": "BUuhLL948t0k",
    "pycharm": {
     "name": "#%% md\n"
    }
   },
   "source": [
    "# TPR and TNR"
   ]
  },
  {
   "cell_type": "code",
   "execution_count": 11,
   "metadata": {
    "colab": {
     "base_uri": "https://localhost:8080/"
    },
    "id": "9SB5y_5v8vgz",
    "outputId": "c3ae0f8d-32b6-4f0a-ca52-bdba2284e8a4",
    "pycharm": {
     "name": "#%%\n"
    }
   },
   "outputs": [
    {
     "name": "stdout",
     "output_type": "stream",
     "text": [
      "TPR = 0.3333333333333333 and TNR = 0.5625.\n"
     ]
    }
   ],
   "source": [
    "tn, fp, fn, tp = cm.ravel()\n",
    "TPR = tp / (tp + tn)\n",
    "TNR = tn / (fn + tn)\n",
    "print(f\"TPR = {TPR} and TNR = {TNR}.\")"
   ]
  }
 ],
 "metadata": {
  "colab": {
   "provenance": []
  },
  "kernelspec": {
   "display_name": "Python 3 (ipykernel)",
   "language": "python",
   "name": "python3"
  },
  "language_info": {
   "codemirror_mode": {
    "name": "ipython",
    "version": 3
   },
   "file_extension": ".py",
   "mimetype": "text/x-python",
   "name": "python",
   "nbconvert_exporter": "python",
   "pygments_lexer": "ipython3",
   "version": "3.10.6"
  }
 },
 "nbformat": 4,
 "nbformat_minor": 1
}