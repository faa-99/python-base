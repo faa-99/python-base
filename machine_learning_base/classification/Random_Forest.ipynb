{
 "cells": [
  {
   "cell_type": "markdown",
   "metadata": {
    "id": "u-VKPLcmpGk_"
   },
   "source": [
    "# Import Libraries"
   ]
  },
  {
   "cell_type": "code",
   "execution_count": 1,
   "metadata": {
    "id": "_u4hAJpAvfgL"
   },
   "outputs": [],
   "source": [
    "import matplotlib.pyplot as plt\n",
    "import numpy as np\n",
    "import pandas as pd\n",
    "import seaborn as sns\n",
    "\n",
    "from sklearn.ensemble import RandomForestClassifier\n",
    "from sklearn.metrics import confusion_matrix, accuracy_score\n",
    "from sklearn.preprocessing import LabelEncoder"
   ]
  },
  {
   "cell_type": "markdown",
   "metadata": {
    "id": "yxJ19DKoqUnE"
   },
   "source": [
    "# Load the dataset"
   ]
  },
  {
   "cell_type": "code",
   "execution_count": 2,
   "metadata": {
    "colab": {
     "base_uri": "https://localhost:8080/",
     "height": 374
    },
    "id": "JC-lg2DJqWE1",
    "outputId": "75c947fa-d881-4885-adbf-94d62437f4b7"
   },
   "outputs": [
    {
     "data": {
      "text/html": [
       "<div>\n",
       "<style scoped>\n",
       "    .dataframe tbody tr th:only-of-type {\n",
       "        vertical-align: middle;\n",
       "    }\n",
       "\n",
       "    .dataframe tbody tr th {\n",
       "        vertical-align: top;\n",
       "    }\n",
       "\n",
       "    .dataframe thead th {\n",
       "        text-align: right;\n",
       "    }\n",
       "</style>\n",
       "<table border=\"1\" class=\"dataframe\">\n",
       "  <thead>\n",
       "    <tr style=\"text-align: right;\">\n",
       "      <th></th>\n",
       "      <th>Date</th>\n",
       "      <th>Year</th>\n",
       "      <th>Month</th>\n",
       "      <th>Day</th>\n",
       "      <th>Weekday</th>\n",
       "      <th>Week_Number</th>\n",
       "      <th>Year_Week</th>\n",
       "      <th>Open</th>\n",
       "      <th>High</th>\n",
       "      <th>Low</th>\n",
       "      <th>Close</th>\n",
       "      <th>Volume</th>\n",
       "      <th>Adj Close</th>\n",
       "      <th>Return</th>\n",
       "      <th>Short_MA</th>\n",
       "      <th>Long_MA</th>\n",
       "    </tr>\n",
       "  </thead>\n",
       "  <tbody>\n",
       "    <tr>\n",
       "      <th>0</th>\n",
       "      <td>2017-11-09</td>\n",
       "      <td>2017</td>\n",
       "      <td>11</td>\n",
       "      <td>9</td>\n",
       "      <td>Thursday</td>\n",
       "      <td>45</td>\n",
       "      <td>2017-45</td>\n",
       "      <td>308.64</td>\n",
       "      <td>329.45</td>\n",
       "      <td>307.06</td>\n",
       "      <td>320.88</td>\n",
       "      <td>893249984</td>\n",
       "      <td>320.88</td>\n",
       "      <td>0.000000</td>\n",
       "      <td>320.880000</td>\n",
       "      <td>320.880000</td>\n",
       "    </tr>\n",
       "    <tr>\n",
       "      <th>1</th>\n",
       "      <td>2017-11-10</td>\n",
       "      <td>2017</td>\n",
       "      <td>11</td>\n",
       "      <td>10</td>\n",
       "      <td>Friday</td>\n",
       "      <td>45</td>\n",
       "      <td>2017-45</td>\n",
       "      <td>320.67</td>\n",
       "      <td>324.72</td>\n",
       "      <td>294.54</td>\n",
       "      <td>299.25</td>\n",
       "      <td>885985984</td>\n",
       "      <td>299.25</td>\n",
       "      <td>-0.067411</td>\n",
       "      <td>310.065000</td>\n",
       "      <td>310.065000</td>\n",
       "    </tr>\n",
       "    <tr>\n",
       "      <th>2</th>\n",
       "      <td>2017-11-11</td>\n",
       "      <td>2017</td>\n",
       "      <td>11</td>\n",
       "      <td>11</td>\n",
       "      <td>Saturday</td>\n",
       "      <td>45</td>\n",
       "      <td>2017-45</td>\n",
       "      <td>298.59</td>\n",
       "      <td>319.45</td>\n",
       "      <td>298.19</td>\n",
       "      <td>314.68</td>\n",
       "      <td>842300992</td>\n",
       "      <td>314.68</td>\n",
       "      <td>0.051555</td>\n",
       "      <td>311.603333</td>\n",
       "      <td>311.603333</td>\n",
       "    </tr>\n",
       "    <tr>\n",
       "      <th>3</th>\n",
       "      <td>2017-11-12</td>\n",
       "      <td>2017</td>\n",
       "      <td>11</td>\n",
       "      <td>12</td>\n",
       "      <td>Sunday</td>\n",
       "      <td>46</td>\n",
       "      <td>2017-46</td>\n",
       "      <td>314.69</td>\n",
       "      <td>319.15</td>\n",
       "      <td>298.51</td>\n",
       "      <td>307.91</td>\n",
       "      <td>1613479936</td>\n",
       "      <td>307.91</td>\n",
       "      <td>-0.021523</td>\n",
       "      <td>310.680000</td>\n",
       "      <td>310.680000</td>\n",
       "    </tr>\n",
       "    <tr>\n",
       "      <th>4</th>\n",
       "      <td>2017-11-13</td>\n",
       "      <td>2017</td>\n",
       "      <td>11</td>\n",
       "      <td>13</td>\n",
       "      <td>Monday</td>\n",
       "      <td>46</td>\n",
       "      <td>2017-46</td>\n",
       "      <td>307.02</td>\n",
       "      <td>328.42</td>\n",
       "      <td>307.02</td>\n",
       "      <td>316.72</td>\n",
       "      <td>1041889984</td>\n",
       "      <td>316.72</td>\n",
       "      <td>0.028606</td>\n",
       "      <td>311.888000</td>\n",
       "      <td>311.888000</td>\n",
       "    </tr>\n",
       "  </tbody>\n",
       "</table>\n",
       "</div>"
      ],
      "text/plain": [
       "         Date  Year  Month  Day   Weekday  Week_Number Year_Week    Open  \\\n",
       "0  2017-11-09  2017     11    9  Thursday           45   2017-45  308.64   \n",
       "1  2017-11-10  2017     11   10    Friday           45   2017-45  320.67   \n",
       "2  2017-11-11  2017     11   11  Saturday           45   2017-45  298.59   \n",
       "3  2017-11-12  2017     11   12    Sunday           46   2017-46  314.69   \n",
       "4  2017-11-13  2017     11   13    Monday           46   2017-46  307.02   \n",
       "\n",
       "     High     Low   Close      Volume  Adj Close    Return    Short_MA  \\\n",
       "0  329.45  307.06  320.88   893249984     320.88  0.000000  320.880000   \n",
       "1  324.72  294.54  299.25   885985984     299.25 -0.067411  310.065000   \n",
       "2  319.45  298.19  314.68   842300992     314.68  0.051555  311.603333   \n",
       "3  319.15  298.51  307.91  1613479936     307.91 -0.021523  310.680000   \n",
       "4  328.42  307.02  316.72  1041889984     316.72  0.028606  311.888000   \n",
       "\n",
       "      Long_MA  \n",
       "0  320.880000  \n",
       "1  310.065000  \n",
       "2  311.603333  \n",
       "3  310.680000  \n",
       "4  311.888000  "
      ]
     },
     "execution_count": 2,
     "metadata": {},
     "output_type": "execute_result"
    }
   ],
   "source": [
    "df_stock = pd.read_csv('ETH-USD.csv')\n",
    "df_stock.head()"
   ]
  },
  {
   "cell_type": "code",
   "execution_count": 4,
   "metadata": {
    "colab": {
     "base_uri": "https://localhost:8080/",
     "height": 206
    },
    "id": "zE6PVzs_rcfi",
    "outputId": "d23e6dd6-bcff-4b12-89ce-21dcc191a2b1"
   },
   "outputs": [
    {
     "data": {
      "text/html": [
       "<div>\n",
       "<style scoped>\n",
       "    .dataframe tbody tr th:only-of-type {\n",
       "        vertical-align: middle;\n",
       "    }\n",
       "\n",
       "    .dataframe tbody tr th {\n",
       "        vertical-align: top;\n",
       "    }\n",
       "\n",
       "    .dataframe thead th {\n",
       "        text-align: right;\n",
       "    }\n",
       "</style>\n",
       "<table border=\"1\" class=\"dataframe\">\n",
       "  <thead>\n",
       "    <tr style=\"text-align: right;\">\n",
       "      <th></th>\n",
       "      <th>Year</th>\n",
       "      <th>Week_Number</th>\n",
       "      <th>mean_return</th>\n",
       "      <th>volatility</th>\n",
       "      <th>label</th>\n",
       "    </tr>\n",
       "  </thead>\n",
       "  <tbody>\n",
       "    <tr>\n",
       "      <th>216</th>\n",
       "      <td>2021</td>\n",
       "      <td>48</td>\n",
       "      <td>0.153429</td>\n",
       "      <td>4.160537</td>\n",
       "      <td>red</td>\n",
       "    </tr>\n",
       "    <tr>\n",
       "      <th>217</th>\n",
       "      <td>2021</td>\n",
       "      <td>49</td>\n",
       "      <td>-0.030571</td>\n",
       "      <td>4.581401</td>\n",
       "      <td>red</td>\n",
       "    </tr>\n",
       "    <tr>\n",
       "      <th>218</th>\n",
       "      <td>2021</td>\n",
       "      <td>50</td>\n",
       "      <td>-0.339000</td>\n",
       "      <td>4.784117</td>\n",
       "      <td>green</td>\n",
       "    </tr>\n",
       "    <tr>\n",
       "      <th>219</th>\n",
       "      <td>2021</td>\n",
       "      <td>51</td>\n",
       "      <td>0.484143</td>\n",
       "      <td>1.755330</td>\n",
       "      <td>red</td>\n",
       "    </tr>\n",
       "    <tr>\n",
       "      <th>220</th>\n",
       "      <td>2021</td>\n",
       "      <td>52</td>\n",
       "      <td>-1.708667</td>\n",
       "      <td>2.985718</td>\n",
       "      <td>red</td>\n",
       "    </tr>\n",
       "  </tbody>\n",
       "</table>\n",
       "</div>"
      ],
      "text/plain": [
       "     Year  Week_Number  mean_return  volatility  label\n",
       "216  2021           48     0.153429    4.160537    red\n",
       "217  2021           49    -0.030571    4.581401    red\n",
       "218  2021           50    -0.339000    4.784117  green\n",
       "219  2021           51     0.484143    1.755330    red\n",
       "220  2021           52    -1.708667    2.985718    red"
      ]
     },
     "execution_count": 4,
     "metadata": {},
     "output_type": "execute_result"
    }
   ],
   "source": [
    "df_weekly = pd.read_csv('ETH-USD_weekly_return_volatility.csv')\n",
    "df_weekly.tail()"
   ]
  },
  {
   "cell_type": "markdown",
   "metadata": {
    "id": "7PAVqoelro4b"
   },
   "source": [
    "# Train Decision Tree Classifier on Year 1 (2020)"
   ]
  },
  {
   "cell_type": "code",
   "execution_count": 5,
   "metadata": {
    "id": "ohSso852GXtP"
   },
   "outputs": [],
   "source": [
    "def random_forest_classifier(N, d):\n",
    "  return RandomForestClassifier(n_estimators = N, max_depth = d, \n",
    "                               criterion = 'entropy',\n",
    "                                random_state=42)"
   ]
  },
  {
   "cell_type": "code",
   "execution_count": 6,
   "metadata": {
    "colab": {
     "base_uri": "https://localhost:8080/"
    },
    "id": "MIJS5GlErxxX",
    "outputId": "18b2faed-aef3-403c-a7dd-57b8aca7aaf9"
   },
   "outputs": [
    {
     "name": "stdout",
     "output_type": "stream",
     "text": [
      "The best n and d are 3 and 4 with error of 0.37735849056603776.\n"
     ]
    }
   ],
   "source": [
    "df_2020 = df_weekly[df_weekly.Year == 2020]\n",
    "X = df_2020[['mean_return', 'volatility']]\n",
    "Label = df_2020['label'].values\n",
    "\n",
    "df_2021 = df_weekly[df_weekly.Year == 2021]\n",
    "X_test, y_test = df_2021[['mean_return', 'volatility']], df_2021['label']\n",
    "\n",
    "estimators = [i for i in range(1, 11)]\n",
    "depth = [i for i in range (1, 6)]\n",
    "errors = []\n",
    "N = []\n",
    "dp = []\n",
    "\n",
    "min_error, best_n, best_d = float('inf'), 0, 0\n",
    "\n",
    "for n in estimators:\n",
    "  for d in depth:\n",
    "    model = random_forest_classifier(n, d)\n",
    "    model.fit(X, Label)\n",
    "    y_pred = model.predict(X_test)\n",
    "    error_rate = 1 - accuracy_score(y_test, y_pred)\n",
    "    N.append(n)\n",
    "    dp.append(d)\n",
    "    errors.append(error_rate)\n",
    "    if error_rate < min_error:\n",
    "      min_error = error_rate\n",
    "      best_n = n\n",
    "      best_d = d\n",
    "\n",
    "print(f\"The best n and d are {best_n} and {best_d} with error of {min_error}.\")"
   ]
  },
  {
   "cell_type": "markdown",
   "metadata": {
    "id": "iT0kZftWJAc6"
   },
   "source": [
    "# Plot the error rate"
   ]
  },
  {
   "cell_type": "code",
   "execution_count": 7,
   "metadata": {
    "colab": {
     "base_uri": "https://localhost:8080/",
     "height": 501
    },
    "id": "1Eye7I2eJAA9",
    "outputId": "698e01a1-7d6f-41ab-e0b1-583c040436ae"
   },
   "outputs": [
    {
     "data": {
      "text/plain": [
       "<matplotlib.collections.PathCollection at 0x7f9d130d3dc0>"
      ]
     },
     "execution_count": 7,
     "metadata": {},
     "output_type": "execute_result"
    },
    {
     "data": {
      "image/png": "[encoded data removed]",
      "text/plain": [
       "<Figure size 1000x800 with 1 Axes>"
      ]
     },
     "metadata": {},
     "output_type": "display_data"
    }
   ],
   "source": [
    "plt.figure(figsize=(10, 8))\n",
    "plt.scatter(N, dp, s=errors, label=\"Error Rates\", alpha=1, c='red')"
   ]
  },
  {
   "cell_type": "markdown",
   "metadata": {
    "id": "SKpbQP1htZv8"
   },
   "source": [
    "# Confusion Matrix"
   ]
  },
  {
   "cell_type": "code",
   "execution_count": 8,
   "metadata": {
    "colab": {
     "base_uri": "https://localhost:8080/",
     "height": 269
    },
    "id": "EN1V7K_4tbgZ",
    "outputId": "25641ba4-9d94-4a16-8567-db0ac7338919"
   },
   "outputs": [
    {
     "data": {
      "image/png": "[encoded data removed]",
      "text/plain": [
       "<Figure size 640x480 with 2 Axes>"
      ]
     },
     "metadata": {},
     "output_type": "display_data"
    }
   ],
   "source": [
    "model = random_forest_classifier(3, 4)\n",
    "model.fit(X, Label)\n",
    "y_pred = model.predict(X_test)\n",
    "cm = confusion_matrix(y_test, y_pred)\n",
    "sns.heatmap(cm, annot=True)\n",
    "plt.show()"
   ]
  },
  {
   "cell_type": "markdown",
   "metadata": {
    "id": "BUuhLL948t0k"
   },
   "source": [
    "# TPR and TNR"
   ]
  },
  {
   "cell_type": "code",
   "execution_count": 9,
   "metadata": {
    "colab": {
     "base_uri": "https://localhost:8080/"
    },
    "id": "9SB5y_5v8vgz",
    "outputId": "7d18a3e4-2525-4c9d-c308-a5a96da846b5"
   },
   "outputs": [
    {
     "name": "stdout",
     "output_type": "stream",
     "text": [
      "TPR = 0.3333333333333333 and TNR = 0.6470588235294118.\n"
     ]
    }
   ],
   "source": [
    "tn, fp, fn, tp = cm.ravel()\n",
    "TPR = tp / (tp + tn)\n",
    "TNR = tn / (fn + tn)\n",
    "print(f\"TPR = {TPR} and TNR = {TNR}.\")"
   ]
  }
 ],
 "metadata": {
  "colab": {
   "provenance": []
  },
  "kernelspec": {
   "display_name": "Python 3 (ipykernel)",
   "language": "python",
   "name": "python3"
  },
  "language_info": {
   "codemirror_mode": {
    "name": "ipython",
    "version": 3
   },
   "file_extension": ".py",
   "mimetype": "text/x-python",
   "name": "python",
   "nbconvert_exporter": "python",
   "pygments_lexer": "ipython3",
   "version": "3.10.6"
  }
 },
 "nbformat": 4,
 "nbformat_minor": 1
}
