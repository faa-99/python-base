{
 "cells": [
  {
   "cell_type": "markdown",
   "metadata": {
    "id": "866daUruJFze"
   },
   "source": [
    "# Import Libraries"
   ]
  },
  {
   "cell_type": "code",
   "execution_count": 2,
   "metadata": {
    "id": "yU0VfnkQQGL1"
   },
   "outputs": [],
   "source": [
    "import matplotlib.pyplot as plt\n",
    "import numpy as np\n",
    "import pandas as pd\n",
    "import seaborn as sns\n",
    "\n",
    "from sklearn.linear_model import LogisticRegression"
   ]
  },
  {
   "cell_type": "markdown",
   "metadata": {
    "id": "fN4FuCckJd0a"
   },
   "source": [
    "# Load the dataset"
   ]
  },
  {
   "cell_type": "code",
   "execution_count": 3,
   "metadata": {
    "colab": {
     "base_uri": "https://localhost:8080/",
     "height": 206
    },
    "id": "v4XhLogJJflY",
    "outputId": "3568c198-e306-4bdc-ecc9-a8beb951cc7a"
   },
   "outputs": [
    {
     "data": {
      "text/html": [
       "<div>\n",
       "<style scoped>\n",
       "    .dataframe tbody tr th:only-of-type {\n",
       "        vertical-align: middle;\n",
       "    }\n",
       "\n",
       "    .dataframe tbody tr th {\n",
       "        vertical-align: top;\n",
       "    }\n",
       "\n",
       "    .dataframe thead th {\n",
       "        text-align: right;\n",
       "    }\n",
       "</style>\n",
       "<table border=\"1\" class=\"dataframe\">\n",
       "  <thead>\n",
       "    <tr style=\"text-align: right;\">\n",
       "      <th></th>\n",
       "      <th>Year</th>\n",
       "      <th>Week_Number</th>\n",
       "      <th>mean_return</th>\n",
       "      <th>volatility</th>\n",
       "      <th>label</th>\n",
       "    </tr>\n",
       "  </thead>\n",
       "  <tbody>\n",
       "    <tr>\n",
       "      <th>0</th>\n",
       "      <td>2017</td>\n",
       "      <td>45</td>\n",
       "      <td>-0.528333</td>\n",
       "      <td>5.966071</td>\n",
       "      <td>NaN</td>\n",
       "    </tr>\n",
       "    <tr>\n",
       "      <th>1</th>\n",
       "      <td>2017</td>\n",
       "      <td>46</td>\n",
       "      <td>1.477000</td>\n",
       "      <td>3.277433</td>\n",
       "      <td>NaN</td>\n",
       "    </tr>\n",
       "    <tr>\n",
       "      <th>2</th>\n",
       "      <td>2017</td>\n",
       "      <td>47</td>\n",
       "      <td>4.435143</td>\n",
       "      <td>6.128955</td>\n",
       "      <td>NaN</td>\n",
       "    </tr>\n",
       "    <tr>\n",
       "      <th>3</th>\n",
       "      <td>2017</td>\n",
       "      <td>48</td>\n",
       "      <td>0.016429</td>\n",
       "      <td>4.824342</td>\n",
       "      <td>NaN</td>\n",
       "    </tr>\n",
       "    <tr>\n",
       "      <th>4</th>\n",
       "      <td>2017</td>\n",
       "      <td>49</td>\n",
       "      <td>0.379857</td>\n",
       "      <td>4.076044</td>\n",
       "      <td>NaN</td>\n",
       "    </tr>\n",
       "  </tbody>\n",
       "</table>\n",
       "</div>"
      ],
      "text/plain": [
       "   Year  Week_Number  mean_return  volatility label\n",
       "0  2017           45    -0.528333    5.966071   NaN\n",
       "1  2017           46     1.477000    3.277433   NaN\n",
       "2  2017           47     4.435143    6.128955   NaN\n",
       "3  2017           48     0.016429    4.824342   NaN\n",
       "4  2017           49     0.379857    4.076044   NaN"
      ]
     },
     "execution_count": 3,
     "metadata": {},
     "output_type": "execute_result"
    }
   ],
   "source": [
    "df = pd.read_csv('ETH-USD_weekly_return_volatility.csv')\n",
    "df.head()"
   ]
  },
  {
   "cell_type": "code",
   "execution_count": 4,
   "metadata": {
    "colab": {
     "base_uri": "https://localhost:8080/",
     "height": 206
    },
    "id": "eSsCgUImQjD0",
    "outputId": "55383709-8f8c-419e-c4d9-1521b5b699bf"
   },
   "outputs": [
    {
     "data": {
      "text/html": [
       "<div>\n",
       "<style scoped>\n",
       "    .dataframe tbody tr th:only-of-type {\n",
       "        vertical-align: middle;\n",
       "    }\n",
       "\n",
       "    .dataframe tbody tr th {\n",
       "        vertical-align: top;\n",
       "    }\n",
       "\n",
       "    .dataframe thead th {\n",
       "        text-align: right;\n",
       "    }\n",
       "</style>\n",
       "<table border=\"1\" class=\"dataframe\">\n",
       "  <thead>\n",
       "    <tr style=\"text-align: right;\">\n",
       "      <th></th>\n",
       "      <th>Date</th>\n",
       "      <th>Year</th>\n",
       "      <th>Month</th>\n",
       "      <th>Day</th>\n",
       "      <th>Weekday</th>\n",
       "      <th>Week_Number</th>\n",
       "      <th>Year_Week</th>\n",
       "      <th>Open</th>\n",
       "      <th>High</th>\n",
       "      <th>Low</th>\n",
       "      <th>Close</th>\n",
       "      <th>Volume</th>\n",
       "      <th>Adj Close</th>\n",
       "      <th>Return</th>\n",
       "      <th>Short_MA</th>\n",
       "      <th>Long_MA</th>\n",
       "    </tr>\n",
       "  </thead>\n",
       "  <tbody>\n",
       "    <tr>\n",
       "      <th>1149</th>\n",
       "      <td>2021-01-01</td>\n",
       "      <td>2021</td>\n",
       "      <td>1</td>\n",
       "      <td>1</td>\n",
       "      <td>Friday</td>\n",
       "      <td>0</td>\n",
       "      <td>2021-00</td>\n",
       "      <td>737.71</td>\n",
       "      <td>749.20</td>\n",
       "      <td>719.79</td>\n",
       "      <td>730.37</td>\n",
       "      <td>13652004358</td>\n",
       "      <td>730.37</td>\n",
       "      <td>-0.010078</td>\n",
       "      <td>668.870000</td>\n",
       "      <td>589.3344</td>\n",
       "    </tr>\n",
       "    <tr>\n",
       "      <th>1150</th>\n",
       "      <td>2021-01-02</td>\n",
       "      <td>2021</td>\n",
       "      <td>1</td>\n",
       "      <td>2</td>\n",
       "      <td>Saturday</td>\n",
       "      <td>0</td>\n",
       "      <td>2021-00</td>\n",
       "      <td>730.40</td>\n",
       "      <td>786.80</td>\n",
       "      <td>718.11</td>\n",
       "      <td>774.53</td>\n",
       "      <td>19740771179</td>\n",
       "      <td>774.53</td>\n",
       "      <td>0.060473</td>\n",
       "      <td>677.100714</td>\n",
       "      <td>595.3324</td>\n",
       "    </tr>\n",
       "    <tr>\n",
       "      <th>1151</th>\n",
       "      <td>2021-01-03</td>\n",
       "      <td>2021</td>\n",
       "      <td>1</td>\n",
       "      <td>3</td>\n",
       "      <td>Sunday</td>\n",
       "      <td>1</td>\n",
       "      <td>2021-01</td>\n",
       "      <td>774.51</td>\n",
       "      <td>1006.57</td>\n",
       "      <td>771.56</td>\n",
       "      <td>975.51</td>\n",
       "      <td>45200463368</td>\n",
       "      <td>975.51</td>\n",
       "      <td>0.259475</td>\n",
       "      <td>701.187857</td>\n",
       "      <td>605.6396</td>\n",
       "    </tr>\n",
       "    <tr>\n",
       "      <th>1152</th>\n",
       "      <td>2021-01-04</td>\n",
       "      <td>2021</td>\n",
       "      <td>1</td>\n",
       "      <td>4</td>\n",
       "      <td>Monday</td>\n",
       "      <td>1</td>\n",
       "      <td>2021-01</td>\n",
       "      <td>977.06</td>\n",
       "      <td>1153.19</td>\n",
       "      <td>912.31</td>\n",
       "      <td>1040.23</td>\n",
       "      <td>56945985763</td>\n",
       "      <td>1040.23</td>\n",
       "      <td>0.066350</td>\n",
       "      <td>731.931429</td>\n",
       "      <td>617.4930</td>\n",
       "    </tr>\n",
       "    <tr>\n",
       "      <th>1153</th>\n",
       "      <td>2021-01-05</td>\n",
       "      <td>2021</td>\n",
       "      <td>1</td>\n",
       "      <td>5</td>\n",
       "      <td>Tuesday</td>\n",
       "      <td>1</td>\n",
       "      <td>2021-01</td>\n",
       "      <td>1041.50</td>\n",
       "      <td>1129.37</td>\n",
       "      <td>986.81</td>\n",
       "      <td>1100.01</td>\n",
       "      <td>41535932781</td>\n",
       "      <td>1100.01</td>\n",
       "      <td>0.057461</td>\n",
       "      <td>765.157143</td>\n",
       "      <td>630.2944</td>\n",
       "    </tr>\n",
       "  </tbody>\n",
       "</table>\n",
       "</div>"
      ],
      "text/plain": [
       "            Date  Year  Month  Day   Weekday  Week_Number Year_Week     Open  \\\n",
       "1149  2021-01-01  2021      1    1    Friday            0   2021-00   737.71   \n",
       "1150  2021-01-02  2021      1    2  Saturday            0   2021-00   730.40   \n",
       "1151  2021-01-03  2021      1    3    Sunday            1   2021-01   774.51   \n",
       "1152  2021-01-04  2021      1    4    Monday            1   2021-01   977.06   \n",
       "1153  2021-01-05  2021      1    5   Tuesday            1   2021-01  1041.50   \n",
       "\n",
       "         High     Low    Close       Volume  Adj Close    Return    Short_MA  \\\n",
       "1149   749.20  719.79   730.37  13652004358     730.37 -0.010078  668.870000   \n",
       "1150   786.80  718.11   774.53  19740771179     774.53  0.060473  677.100714   \n",
       "1151  1006.57  771.56   975.51  45200463368     975.51  0.259475  701.187857   \n",
       "1152  1153.19  912.31  1040.23  56945985763    1040.23  0.066350  731.931429   \n",
       "1153  1129.37  986.81  1100.01  41535932781    1100.01  0.057461  765.157143   \n",
       "\n",
       "       Long_MA  \n",
       "1149  589.3344  \n",
       "1150  595.3324  \n",
       "1151  605.6396  \n",
       "1152  617.4930  \n",
       "1153  630.2944  "
      ]
     },
     "execution_count": 4,
     "metadata": {},
     "output_type": "execute_result"
    }
   ],
   "source": [
    "df_main = pd.read_csv('ETH-USD.csv')\n",
    "df_main[df_main['Year'] == 2021].head()"
   ]
  },
  {
   "cell_type": "markdown",
   "metadata": {
    "id": "esqh-PCPJvVG"
   },
   "source": [
    "# Design a logistic regressor based on labels of year 2020"
   ]
  },
  {
   "cell_type": "code",
   "execution_count": 6,
   "metadata": {
    "colab": {
     "base_uri": "https://localhost:8080/"
    },
    "id": "z6XeuTQYY975",
    "outputId": "387a6891-f7bd-4bc2-931b-b4273351079d"
   },
   "outputs": [
    {
     "name": "stdout",
     "output_type": "stream",
     "text": [
      "the coefficients are [[-0.00022837  0.01732008  0.02032938 -0.0662216 ]]\n",
      "the intercept is [-1.19258169e-07]\n"
     ]
    }
   ],
   "source": [
    "Y_col = 'label'\n",
    "X_cols = df.loc[:, df.columns != Y_col].columns\n",
    "\n",
    "X_train = df[df['Year'] == 2020][X_cols]\n",
    "y_train = df[df['Year'] == 2020][Y_col]\n",
    "X_test = df[df['Year'] == 2021][X_cols]\n",
    "y_test = df[df['Year'] == 2021][Y_col]\n",
    "\n",
    "clf = LogisticRegression(random_state=0).fit(X_train, y_train)\n",
    "print(f\"the coefficients are {clf.coef_}\")\n",
    "print(f\"the intercept is {clf.intercept_}\")\n",
    "y_predicted = clf.predict(X_test)"
   ]
  },
  {
   "cell_type": "code",
   "execution_count": 7,
   "metadata": {
    "colab": {
     "base_uri": "https://localhost:8080/",
     "height": 369
    },
    "id": "Lmjme_q9Zg9k",
    "outputId": "cfe1e508-d41d-4042-bb6f-df4f4a95aad0"
   },
   "outputs": [
    {
     "name": "stdout",
     "output_type": "stream",
     "text": [
      "Predicted  green  red\n",
      "Actual               \n",
      "green         25    5\n",
      "red           17    6\n"
     ]
    },
    {
     "data": {
      "image/png": "[encoded data removed]",
      "text/plain": [
       "<Figure size 640x480 with 2 Axes>"
      ]
     },
     "metadata": {},
     "output_type": "display_data"
    }
   ],
   "source": [
    "fig, ax = plt.subplots()\n",
    "confusion_matrix = pd.crosstab(y_test, \n",
    "                               y_predicted, \n",
    "                               rownames=['Actual'],\n",
    "                               colnames=['Predicted']\n",
    "                               )\n",
    "print(confusion_matrix)\n",
    "sns.heatmap(confusion_matrix, annot=True, ax=ax, cmap=\"YlGnBu\")\n",
    "ax.set_title('logistic regression confusion matrix')\n",
    "plt.show()"
   ]
  },
  {
   "cell_type": "code",
   "execution_count": 8,
   "metadata": {
    "colab": {
     "base_uri": "https://localhost:8080/"
    },
    "id": "tqswx1kOZj-U",
    "outputId": "777fd3c3-72ba-4358-fa89-5018697e62c0"
   },
   "outputs": [
    {
     "name": "stdout",
     "output_type": "stream",
     "text": [
      "accuracy = 0.58\n",
      "TP = 25, TN = 6, FP = 5, FN = 17\n",
      "TPR = 0.6 and TNR = 0.55\n"
     ]
    }
   ],
   "source": [
    "accuracy = (np.diag(confusion_matrix).sum() / confusion_matrix.to_numpy().sum()).round(2)\n",
    "print(f\"accuracy = {accuracy}\")\n",
    "TN = confusion_matrix['red']['red']\n",
    "TP = confusion_matrix['green']['green']\n",
    "FP = confusion_matrix['red']['green']\n",
    "FN = confusion_matrix['green']['red']\n",
    "print(f\"TP = {TP}, TN = {TN}, FP = {FP}, FN = {FN}\")\n",
    "TPR = (TP / (TP + FN)).round(2)\n",
    "TNR = (TN / (TN + FP)).round(2)\n",
    "print(f\"TPR = {TPR} and TNR = {TNR}\")"
   ]
  }
 ],
 "metadata": {
  "colab": {
   "collapsed_sections": [
    "866daUruJFze",
    "Vt5xrF31JKr4",
    "fN4FuCckJd0a"
   ],
   "provenance": []
  },
  "kernelspec": {
   "display_name": "Python 3 (ipykernel)",
   "language": "python",
   "name": "python3"
  },
  "language_info": {
   "codemirror_mode": {
    "name": "ipython",
    "version": 3
   },
   "file_extension": ".py",
   "mimetype": "text/x-python",
   "name": "python",
   "nbconvert_exporter": "python",
   "pygments_lexer": "ipython3",
   "version": "3.10.6"
  }
 },
 "nbformat": 4,
 "nbformat_minor": 1
}
