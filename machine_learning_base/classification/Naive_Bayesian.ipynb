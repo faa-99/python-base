{
 "cells": [
  {
   "cell_type": "markdown",
   "metadata": {
    "id": "DgCY-vQsv1Ds"
   },
   "source": [
    "# Import libraries"
   ]
  },
  {
   "cell_type": "code",
   "execution_count": 1,
   "metadata": {
    "id": "_u4hAJpAvfgL"
   },
   "outputs": [],
   "source": [
    "import matplotlib.pyplot as plt\n",
    "import numpy as np\n",
    "import pandas as pd\n",
    "import seaborn as sns\n",
    "\n",
    "from sklearn.metrics import confusion_matrix\n",
    "from sklearn.naive_bayes import GaussianNB"
   ]
  },
  {
   "cell_type": "markdown",
   "metadata": {
    "id": "hOC5d04EwZt8"
   },
   "source": [
    "# Load the dataset"
   ]
  },
  {
   "cell_type": "code",
   "execution_count": 2,
   "metadata": {
    "colab": {
     "base_uri": "https://localhost:8080/",
     "height": 374
    },
    "id": "rRvlDvKsLV1b",
    "outputId": "9066c9f1-8a79-4957-cb84-1071ba05685c"
   },
   "outputs": [
    {
     "data": {
      "text/html": [
       "<div>\n",
       "<style scoped>\n",
       "    .dataframe tbody tr th:only-of-type {\n",
       "        vertical-align: middle;\n",
       "    }\n",
       "\n",
       "    .dataframe tbody tr th {\n",
       "        vertical-align: top;\n",
       "    }\n",
       "\n",
       "    .dataframe thead th {\n",
       "        text-align: right;\n",
       "    }\n",
       "</style>\n",
       "<table border=\"1\" class=\"dataframe\">\n",
       "  <thead>\n",
       "    <tr style=\"text-align: right;\">\n",
       "      <th></th>\n",
       "      <th>Date</th>\n",
       "      <th>Year</th>\n",
       "      <th>Month</th>\n",
       "      <th>Day</th>\n",
       "      <th>Weekday</th>\n",
       "      <th>Week_Number</th>\n",
       "      <th>Year_Week</th>\n",
       "      <th>Open</th>\n",
       "      <th>High</th>\n",
       "      <th>Low</th>\n",
       "      <th>Close</th>\n",
       "      <th>Volume</th>\n",
       "      <th>Adj Close</th>\n",
       "      <th>Return</th>\n",
       "      <th>Short_MA</th>\n",
       "      <th>Long_MA</th>\n",
       "    </tr>\n",
       "  </thead>\n",
       "  <tbody>\n",
       "    <tr>\n",
       "      <th>0</th>\n",
       "      <td>2017-11-09</td>\n",
       "      <td>2017</td>\n",
       "      <td>11</td>\n",
       "      <td>9</td>\n",
       "      <td>Thursday</td>\n",
       "      <td>45</td>\n",
       "      <td>2017-45</td>\n",
       "      <td>308.64</td>\n",
       "      <td>329.45</td>\n",
       "      <td>307.06</td>\n",
       "      <td>320.88</td>\n",
       "      <td>893249984</td>\n",
       "      <td>320.88</td>\n",
       "      <td>0.000000</td>\n",
       "      <td>320.880000</td>\n",
       "      <td>320.880000</td>\n",
       "    </tr>\n",
       "    <tr>\n",
       "      <th>1</th>\n",
       "      <td>2017-11-10</td>\n",
       "      <td>2017</td>\n",
       "      <td>11</td>\n",
       "      <td>10</td>\n",
       "      <td>Friday</td>\n",
       "      <td>45</td>\n",
       "      <td>2017-45</td>\n",
       "      <td>320.67</td>\n",
       "      <td>324.72</td>\n",
       "      <td>294.54</td>\n",
       "      <td>299.25</td>\n",
       "      <td>885985984</td>\n",
       "      <td>299.25</td>\n",
       "      <td>-0.067411</td>\n",
       "      <td>310.065000</td>\n",
       "      <td>310.065000</td>\n",
       "    </tr>\n",
       "    <tr>\n",
       "      <th>2</th>\n",
       "      <td>2017-11-11</td>\n",
       "      <td>2017</td>\n",
       "      <td>11</td>\n",
       "      <td>11</td>\n",
       "      <td>Saturday</td>\n",
       "      <td>45</td>\n",
       "      <td>2017-45</td>\n",
       "      <td>298.59</td>\n",
       "      <td>319.45</td>\n",
       "      <td>298.19</td>\n",
       "      <td>314.68</td>\n",
       "      <td>842300992</td>\n",
       "      <td>314.68</td>\n",
       "      <td>0.051555</td>\n",
       "      <td>311.603333</td>\n",
       "      <td>311.603333</td>\n",
       "    </tr>\n",
       "    <tr>\n",
       "      <th>3</th>\n",
       "      <td>2017-11-12</td>\n",
       "      <td>2017</td>\n",
       "      <td>11</td>\n",
       "      <td>12</td>\n",
       "      <td>Sunday</td>\n",
       "      <td>46</td>\n",
       "      <td>2017-46</td>\n",
       "      <td>314.69</td>\n",
       "      <td>319.15</td>\n",
       "      <td>298.51</td>\n",
       "      <td>307.91</td>\n",
       "      <td>1613479936</td>\n",
       "      <td>307.91</td>\n",
       "      <td>-0.021523</td>\n",
       "      <td>310.680000</td>\n",
       "      <td>310.680000</td>\n",
       "    </tr>\n",
       "    <tr>\n",
       "      <th>4</th>\n",
       "      <td>2017-11-13</td>\n",
       "      <td>2017</td>\n",
       "      <td>11</td>\n",
       "      <td>13</td>\n",
       "      <td>Monday</td>\n",
       "      <td>46</td>\n",
       "      <td>2017-46</td>\n",
       "      <td>307.02</td>\n",
       "      <td>328.42</td>\n",
       "      <td>307.02</td>\n",
       "      <td>316.72</td>\n",
       "      <td>1041889984</td>\n",
       "      <td>316.72</td>\n",
       "      <td>0.028606</td>\n",
       "      <td>311.888000</td>\n",
       "      <td>311.888000</td>\n",
       "    </tr>\n",
       "  </tbody>\n",
       "</table>\n",
       "</div>"
      ],
      "text/plain": [
       "         Date  Year  Month  Day   Weekday  Week_Number Year_Week    Open  \\\n",
       "0  2017-11-09  2017     11    9  Thursday           45   2017-45  308.64   \n",
       "1  2017-11-10  2017     11   10    Friday           45   2017-45  320.67   \n",
       "2  2017-11-11  2017     11   11  Saturday           45   2017-45  298.59   \n",
       "3  2017-11-12  2017     11   12    Sunday           46   2017-46  314.69   \n",
       "4  2017-11-13  2017     11   13    Monday           46   2017-46  307.02   \n",
       "\n",
       "     High     Low   Close      Volume  Adj Close    Return    Short_MA  \\\n",
       "0  329.45  307.06  320.88   893249984     320.88  0.000000  320.880000   \n",
       "1  324.72  294.54  299.25   885985984     299.25 -0.067411  310.065000   \n",
       "2  319.45  298.19  314.68   842300992     314.68  0.051555  311.603333   \n",
       "3  319.15  298.51  307.91  1613479936     307.91 -0.021523  310.680000   \n",
       "4  328.42  307.02  316.72  1041889984     316.72  0.028606  311.888000   \n",
       "\n",
       "      Long_MA  \n",
       "0  320.880000  \n",
       "1  310.065000  \n",
       "2  311.603333  \n",
       "3  310.680000  \n",
       "4  311.888000  "
      ]
     },
     "execution_count": 2,
     "metadata": {},
     "output_type": "execute_result"
    }
   ],
   "source": [
    "df_stock = pd.read_csv('ETH-USD.csv')\n",
    "df_stock.head()"
   ]
  },
  {
   "cell_type": "code",
   "execution_count": 3,
   "metadata": {
    "colab": {
     "base_uri": "https://localhost:8080/",
     "height": 676
    },
    "id": "rLwz9evKwa_7",
    "outputId": "39516a22-afed-450d-dada-b891b1bfac87"
   },
   "outputs": [
    {
     "data": {
      "text/html": [
       "<div>\n",
       "<style scoped>\n",
       "    .dataframe tbody tr th:only-of-type {\n",
       "        vertical-align: middle;\n",
       "    }\n",
       "\n",
       "    .dataframe tbody tr th {\n",
       "        vertical-align: top;\n",
       "    }\n",
       "\n",
       "    .dataframe thead th {\n",
       "        text-align: right;\n",
       "    }\n",
       "</style>\n",
       "<table border=\"1\" class=\"dataframe\">\n",
       "  <thead>\n",
       "    <tr style=\"text-align: right;\">\n",
       "      <th></th>\n",
       "      <th>Year</th>\n",
       "      <th>Week_Number</th>\n",
       "      <th>mean_return</th>\n",
       "      <th>volatility</th>\n",
       "      <th>label</th>\n",
       "    </tr>\n",
       "  </thead>\n",
       "  <tbody>\n",
       "    <tr>\n",
       "      <th>0</th>\n",
       "      <td>2017</td>\n",
       "      <td>45</td>\n",
       "      <td>-0.528333</td>\n",
       "      <td>5.966071</td>\n",
       "      <td>NaN</td>\n",
       "    </tr>\n",
       "    <tr>\n",
       "      <th>1</th>\n",
       "      <td>2017</td>\n",
       "      <td>46</td>\n",
       "      <td>1.477000</td>\n",
       "      <td>3.277433</td>\n",
       "      <td>NaN</td>\n",
       "    </tr>\n",
       "    <tr>\n",
       "      <th>2</th>\n",
       "      <td>2017</td>\n",
       "      <td>47</td>\n",
       "      <td>4.435143</td>\n",
       "      <td>6.128955</td>\n",
       "      <td>NaN</td>\n",
       "    </tr>\n",
       "    <tr>\n",
       "      <th>3</th>\n",
       "      <td>2017</td>\n",
       "      <td>48</td>\n",
       "      <td>0.016429</td>\n",
       "      <td>4.824342</td>\n",
       "      <td>NaN</td>\n",
       "    </tr>\n",
       "    <tr>\n",
       "      <th>4</th>\n",
       "      <td>2017</td>\n",
       "      <td>49</td>\n",
       "      <td>0.379857</td>\n",
       "      <td>4.076044</td>\n",
       "      <td>NaN</td>\n",
       "    </tr>\n",
       "    <tr>\n",
       "      <th>5</th>\n",
       "      <td>2017</td>\n",
       "      <td>50</td>\n",
       "      <td>6.191571</td>\n",
       "      <td>11.702181</td>\n",
       "      <td>NaN</td>\n",
       "    </tr>\n",
       "    <tr>\n",
       "      <th>6</th>\n",
       "      <td>2017</td>\n",
       "      <td>51</td>\n",
       "      <td>0.847143</td>\n",
       "      <td>9.056682</td>\n",
       "      <td>NaN</td>\n",
       "    </tr>\n",
       "    <tr>\n",
       "      <th>7</th>\n",
       "      <td>2017</td>\n",
       "      <td>52</td>\n",
       "      <td>0.069143</td>\n",
       "      <td>5.192851</td>\n",
       "      <td>NaN</td>\n",
       "    </tr>\n",
       "    <tr>\n",
       "      <th>8</th>\n",
       "      <td>2017</td>\n",
       "      <td>53</td>\n",
       "      <td>5.504000</td>\n",
       "      <td>0.000000</td>\n",
       "      <td>NaN</td>\n",
       "    </tr>\n",
       "    <tr>\n",
       "      <th>9</th>\n",
       "      <td>2018</td>\n",
       "      <td>0</td>\n",
       "      <td>5.571833</td>\n",
       "      <td>5.133605</td>\n",
       "      <td>NaN</td>\n",
       "    </tr>\n",
       "    <tr>\n",
       "      <th>10</th>\n",
       "      <td>2018</td>\n",
       "      <td>1</td>\n",
       "      <td>4.567429</td>\n",
       "      <td>8.331803</td>\n",
       "      <td>NaN</td>\n",
       "    </tr>\n",
       "    <tr>\n",
       "      <th>11</th>\n",
       "      <td>2018</td>\n",
       "      <td>2</td>\n",
       "      <td>-2.310000</td>\n",
       "      <td>8.950796</td>\n",
       "      <td>NaN</td>\n",
       "    </tr>\n",
       "    <tr>\n",
       "      <th>12</th>\n",
       "      <td>2018</td>\n",
       "      <td>3</td>\n",
       "      <td>-0.473714</td>\n",
       "      <td>5.517997</td>\n",
       "      <td>NaN</td>\n",
       "    </tr>\n",
       "    <tr>\n",
       "      <th>13</th>\n",
       "      <td>2018</td>\n",
       "      <td>4</td>\n",
       "      <td>-1.607714</td>\n",
       "      <td>9.041518</td>\n",
       "      <td>NaN</td>\n",
       "    </tr>\n",
       "    <tr>\n",
       "      <th>14</th>\n",
       "      <td>2018</td>\n",
       "      <td>5</td>\n",
       "      <td>-1.037143</td>\n",
       "      <td>11.431302</td>\n",
       "      <td>NaN</td>\n",
       "    </tr>\n",
       "    <tr>\n",
       "      <th>15</th>\n",
       "      <td>2018</td>\n",
       "      <td>6</td>\n",
       "      <td>1.896143</td>\n",
       "      <td>5.049207</td>\n",
       "      <td>NaN</td>\n",
       "    </tr>\n",
       "    <tr>\n",
       "      <th>16</th>\n",
       "      <td>2018</td>\n",
       "      <td>7</td>\n",
       "      <td>-1.999000</td>\n",
       "      <td>4.506344</td>\n",
       "      <td>NaN</td>\n",
       "    </tr>\n",
       "    <tr>\n",
       "      <th>17</th>\n",
       "      <td>2018</td>\n",
       "      <td>8</td>\n",
       "      <td>0.298143</td>\n",
       "      <td>1.960572</td>\n",
       "      <td>NaN</td>\n",
       "    </tr>\n",
       "    <tr>\n",
       "      <th>18</th>\n",
       "      <td>2018</td>\n",
       "      <td>9</td>\n",
       "      <td>-3.038429</td>\n",
       "      <td>4.186777</td>\n",
       "      <td>NaN</td>\n",
       "    </tr>\n",
       "    <tr>\n",
       "      <th>19</th>\n",
       "      <td>2018</td>\n",
       "      <td>10</td>\n",
       "      <td>-2.928286</td>\n",
       "      <td>5.351503</td>\n",
       "      <td>NaN</td>\n",
       "    </tr>\n",
       "  </tbody>\n",
       "</table>\n",
       "</div>"
      ],
      "text/plain": [
       "    Year  Week_Number  mean_return  volatility label\n",
       "0   2017           45    -0.528333    5.966071   NaN\n",
       "1   2017           46     1.477000    3.277433   NaN\n",
       "2   2017           47     4.435143    6.128955   NaN\n",
       "3   2017           48     0.016429    4.824342   NaN\n",
       "4   2017           49     0.379857    4.076044   NaN\n",
       "5   2017           50     6.191571   11.702181   NaN\n",
       "6   2017           51     0.847143    9.056682   NaN\n",
       "7   2017           52     0.069143    5.192851   NaN\n",
       "8   2017           53     5.504000    0.000000   NaN\n",
       "9   2018            0     5.571833    5.133605   NaN\n",
       "10  2018            1     4.567429    8.331803   NaN\n",
       "11  2018            2    -2.310000    8.950796   NaN\n",
       "12  2018            3    -0.473714    5.517997   NaN\n",
       "13  2018            4    -1.607714    9.041518   NaN\n",
       "14  2018            5    -1.037143   11.431302   NaN\n",
       "15  2018            6     1.896143    5.049207   NaN\n",
       "16  2018            7    -1.999000    4.506344   NaN\n",
       "17  2018            8     0.298143    1.960572   NaN\n",
       "18  2018            9    -3.038429    4.186777   NaN\n",
       "19  2018           10    -2.928286    5.351503   NaN"
      ]
     },
     "execution_count": 3,
     "metadata": {},
     "output_type": "execute_result"
    }
   ],
   "source": [
    "df = pd.read_csv('ETH-USD_weekly_return_volatility.csv')\n",
    "df.head(20)"
   ]
  },
  {
   "cell_type": "markdown",
   "metadata": {
    "id": "I9JHmkB0we6c"
   },
   "source": [
    "# Train Naive Bayes Classifier based on year 1 (2020)"
   ]
  },
  {
   "cell_type": "code",
   "execution_count": 4,
   "metadata": {
    "id": "rqShK6Ukwlq-"
   },
   "outputs": [],
   "source": [
    "df_2020 = df[df.Year == 2020]\n",
    "X = df_2020[['mean_return', 'volatility']]\n",
    "Label = df_2020['label']\n",
    "NB_classifier = GaussianNB().fit(X, Label)"
   ]
  },
  {
   "cell_type": "markdown",
   "metadata": {
    "id": "e5X90R_i3z0N"
   },
   "source": [
    "# Confusion Matrix for year 2 (2021)"
   ]
  },
  {
   "cell_type": "code",
   "execution_count": 5,
   "metadata": {
    "colab": {
     "base_uri": "https://localhost:8080/",
     "height": 400
    },
    "id": "lMDfsJK734KD",
    "outputId": "c2fc3d3c-1f8c-48d2-94c7-7ca589a6850d"
   },
   "outputs": [
    {
     "name": "stderr",
     "output_type": "stream",
     "text": [
      "/tmp/ipykernel_76145/2174178801.py:3: SettingWithCopyWarning: \n",
      "A value is trying to be set on a copy of a slice from a DataFrame.\n",
      "Try using .loc[row_indexer,col_indexer] = value instead\n",
      "\n",
      "See the caveats in the documentation: https://pandas.pydata.org/pandas-docs/stable/user_guide/indexing.html#returning-a-view-versus-a-copy\n",
      "  df_2021['predicted'] = NB_classifier.predict(X_test)\n"
     ]
    },
    {
     "data": {
      "image/png": "[encoded data removed]",
      "text/plain": [
       "<Figure size 640x480 with 2 Axes>"
      ]
     },
     "metadata": {},
     "output_type": "display_data"
    }
   ],
   "source": [
    "df_2021 = df[df.Year == 2021]\n",
    "X_test, y_test = df_2021[['mean_return', 'volatility']], df_2021['label']\n",
    "df_2021['predicted'] = NB_classifier.predict(X_test)\n",
    "\n",
    "cf = confusion_matrix(y_test, df_2021['predicted'])\n",
    "sns.heatmap(cf, annot=True)\n",
    "plt.show()"
   ]
  },
  {
   "cell_type": "markdown",
   "metadata": {
    "id": "DNKCF8Dd44lN"
   },
   "source": [
    "# Calculating metrics"
   ]
  },
  {
   "cell_type": "code",
   "execution_count": null,
   "metadata": {
    "colab": {
     "base_uri": "https://localhost:8080/"
    },
    "id": "_FWdCgAa47mN",
    "outputId": "6fa169c9-14ff-45a7-bb89-64b48f6aaeb0"
   },
   "outputs": [
    {
     "name": "stdout",
     "output_type": "stream",
     "text": [
      "TPR = 0.5 and TNR = 0.6521739130434783.\n"
     ]
    }
   ],
   "source": [
    "tn, fp, fn, tp = cf.ravel()\n",
    "TPR = tp / (tp + tn)\n",
    "TNR = tn / (fn + tn)\n",
    "print(f\"TPR = {TPR} and TNR = {TNR}.\")"
   ]
  }
 ],
 "metadata": {
  "colab": {
   "provenance": []
  },
  "kernelspec": {
   "display_name": "Python 3 (ipykernel)",
   "language": "python",
   "name": "python3"
  },
  "language_info": {
   "codemirror_mode": {
    "name": "ipython",
    "version": 3
   },
   "file_extension": ".py",
   "mimetype": "text/x-python",
   "name": "python",
   "nbconvert_exporter": "python",
   "pygments_lexer": "ipython3",
   "version": "3.10.6"
  }
 },
 "nbformat": 4,
 "nbformat_minor": 1
}
