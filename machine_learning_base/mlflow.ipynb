{
 "cells": [
  {
   "cell_type": "markdown",
   "id": "9305dcfd",
   "metadata": {
    "pycharm": {
     "name": "#%% md\n"
    }
   },
   "source": [
    "# Model tracking with MLflow\n",
    "\n",
    "MLflow is an open source platform for managing the end-to-end machine learning lifecycle. It tackles four primary functions:\n",
    "\n",
    "* Tracking experiments to compare parameters and results (MLflow Tracking).\n",
    "* Model versioning\n",
    "* Support for serving models\n",
    "* Packaging of ML code\n",
    "\n",
    "## Documentation\n",
    "* Documentation: https://mlflow.org/docs/latest/index.html\n",
    "* Tracking API: https://mlflow.org/docs/latest/python_api/index.html\n"
   ]
  },
  {
   "cell_type": "code",
   "execution_count": 1,
   "id": "765c6546",
   "metadata": {
    "pycharm": {
     "name": "#%%\n"
    }
   },
   "outputs": [],
   "source": [
    "import os\n",
    "import mlflow\n",
    "import numpy as np\n",
    "from sklearn.datasets import load_diabetes\n",
    "from sklearn.model_selection import train_test_split\n",
    "from sklearn.ensemble import RandomForestRegressor\n",
    "from sklearn.metrics import mean_squared_error, mean_absolute_error"
   ]
  },
  {
   "cell_type": "code",
   "execution_count": 1,
   "id": "15258d44",
   "metadata": {
    "pycharm": {
     "name": "#%%\n"
    }
   },
   "outputs": [
    {
     "ename": "NameError",
     "evalue": "name 'mlflow' is not defined",
     "output_type": "error",
     "traceback": [
      "\u001B[0;31m---------------------------------------------------------------------------\u001B[0m",
      "\u001B[0;31mNameError\u001B[0m                                 Traceback (most recent call last)",
      "Cell \u001B[0;32mIn[1], line 1\u001B[0m\n\u001B[0;32m----> 1\u001B[0m \u001B[43mmlflow\u001B[49m\u001B[38;5;241m.\u001B[39mstart_run()\n",
      "\u001B[0;31mNameError\u001B[0m: name 'mlflow' is not defined"
     ]
    }
   ],
   "source": [
    "mlflow.start_run()"
   ]
  },
  {
   "cell_type": "code",
   "execution_count": 12,
   "id": "161eee24",
   "metadata": {
    "pycharm": {
     "name": "#%%\n"
    }
   },
   "outputs": [],
   "source": [
    "n_estimators = 100\n",
    "max_depth = 5\n",
    "\n",
    "mlflow.log_param(\"n_estimators\", n_estimators)\n",
    "mlflow.log_param(\"max_depth\", max_depth)"
   ]
  },
  {
   "cell_type": "code",
   "execution_count": 13,
   "id": "56494018",
   "metadata": {
    "pycharm": {
     "name": "#%%\n"
    }
   },
   "outputs": [
    {
     "name": "stdout",
     "output_type": "stream",
     "text": [
      "(331, 10) (331,)\n",
      "[ 0.03081083  0.05068012 -0.03422907  0.0436772   0.05759701  0.06883138\n",
      " -0.03235593  0.05755657  0.03546194  0.08590655]\n",
      "120.0\n"
     ]
    }
   ],
   "source": [
    "db = load_diabetes()\n",
    "X_train, X_test, y_train, y_test = train_test_split(db.data, db.target)\n",
    "print(X_train.shape, y_train.shape)\n",
    "print(X_train[0,:])\n",
    "print(y_train[0])"
   ]
  },
  {
   "cell_type": "code",
   "execution_count": 14,
   "id": "ace1424d",
   "metadata": {
    "pycharm": {
     "name": "#%%\n"
    }
   },
   "outputs": [
    {
     "data": {
      "text/plain": [
       "RandomForestRegressor(max_depth=5, random_state=42)"
      ]
     },
     "execution_count": 14,
     "metadata": {},
     "output_type": "execute_result"
    }
   ],
   "source": [
    "model = RandomForestRegressor(n_estimators=n_estimators, max_depth=max_depth, random_state=42)\n",
    "model.fit(X_train, y_train)"
   ]
  },
  {
   "cell_type": "code",
   "execution_count": 15,
   "id": "689e6ba6",
   "metadata": {
    "pycharm": {
     "name": "#%%\n"
    }
   },
   "outputs": [
    {
     "name": "stdout",
     "output_type": "stream",
     "text": [
      "(111,)\n"
     ]
    }
   ],
   "source": [
    "pred = model.predict(X_test)\n",
    "print(pred.shape)"
   ]
  },
  {
   "cell_type": "code",
   "execution_count": 16,
   "id": "873c3461",
   "metadata": {
    "pycharm": {
     "name": "#%%\n"
    }
   },
   "outputs": [
    {
     "name": "stdout",
     "output_type": "stream",
     "text": [
      "58.63887175520547\n",
      "47.65957438545899\n"
     ]
    }
   ],
   "source": [
    "rmse = np.sqrt(mean_squared_error(y_test, pred))\n",
    "mae = mean_absolute_error(y_test, pred)\n",
    "print(rmse)\n",
    "print(mae)\n",
    "mlflow.log_metric(\"rmse\", rmse)\n",
    "mlflow.log_metric(\"mae\", mae)"
   ]
  },
  {
   "cell_type": "code",
   "execution_count": 17,
   "id": "6e734192",
   "metadata": {
    "pycharm": {
     "name": "#%%\n"
    }
   },
   "outputs": [
    {
     "data": {
      "text/plain": [
       "ModelInfo(artifact_path='model', flavors={'python_function': {'model_path': 'model.pkl', 'loader_module': 'mlflow.sklearn', 'python_version': '3.8.13', 'env': 'conda.yaml'}, 'sklearn': {'pickled_model': 'model.pkl', 'sklearn_version': '1.0.2', 'serialization_format': 'cloudpickle', 'code': None}}, model_uri='runs:/daf30341dd984025a09ceb75da879111/model', model_uuid='52e0359d057d485dba19ac59ea050920', run_id='daf30341dd984025a09ceb75da879111', saved_input_example_info=None, signature_dict=None, utc_time_created='2022-04-30 11:16:40.293223', mlflow_version='1.25.1')"
      ]
     },
     "execution_count": 17,
     "metadata": {},
     "output_type": "execute_result"
    }
   ],
   "source": [
    "# https://mlflow.org/docs/latest/models.html#built-in-model-flavors\n",
    "mlflow.sklearn.log_model(model, \"model\")"
   ]
  },
  {
   "cell_type": "code",
   "execution_count": 18,
   "id": "0ab7936f",
   "metadata": {
    "pycharm": {
     "name": "#%%\n"
    }
   },
   "outputs": [],
   "source": [
    "mlflow.end_run()"
   ]
  },
  {
   "cell_type": "code",
   "execution_count": 19,
   "id": "7f9883be",
   "metadata": {
    "pycharm": {
     "name": "#%%\n"
    }
   },
   "outputs": [
    {
     "name": "stdout",
     "output_type": "stream",
     "text": [
      "[2022-04-30 13:16:48 +0200] [999] [INFO] Starting gunicorn 20.1.0\n",
      "[2022-04-30 13:16:48 +0200] [999] [INFO] Listening at: http://127.0.0.1:5000 (999)\n",
      "[2022-04-30 13:16:48 +0200] [999] [INFO] Using worker: sync\n",
      "[2022-04-30 13:16:48 +0200] [1001] [INFO] Booting worker with pid: 1001\n",
      "^C\n",
      "[2022-04-30 13:17:52 +0200] [999] [INFO] Handling signal: int\n",
      "[2022-04-30 13:17:52 +0200] [1001] [INFO] Worker exiting (pid: 1001)\n"
     ]
    }
   ],
   "source": [
    "#!mlflow ui"
   ]
  },
  {
   "cell_type": "code",
   "execution_count": 20,
   "id": "7f799724",
   "metadata": {
    "pycharm": {
     "name": "#%%\n"
    }
   },
   "outputs": [],
   "source": [
    "logged_model = 'runs:/daf30341dd984025a09ceb75da879111/model'"
   ]
  },
  {
   "cell_type": "code",
   "execution_count": 21,
   "id": "dafcfdc7",
   "metadata": {
    "pycharm": {
     "name": "#%%\n"
    }
   },
   "outputs": [
    {
     "name": "stdout",
     "output_type": "stream",
     "text": [
      "58.63887175520547\n",
      "47.65957438545899\n"
     ]
    }
   ],
   "source": [
    "model2 = mlflow.sklearn.load_model(logged_model)\n",
    "pred2 = model2.predict(X_test)\n",
    "rmse2 = np.sqrt(mean_squared_error(y_test, pred2))\n",
    "mae2 = mean_absolute_error(y_test, pred2)\n",
    "print(rmse2)\n",
    "print(mae2)"
   ]
  }
 ],
 "metadata": {
  "kernelspec": {
   "display_name": "Python 3 (ipykernel)",
   "language": "python",
   "name": "python3"
  },
  "language_info": {
   "codemirror_mode": {
    "name": "ipython",
    "version": 3
   },
   "file_extension": ".py",
   "mimetype": "text/x-python",
   "name": "python",
   "nbconvert_exporter": "python",
   "pygments_lexer": "ipython3",
   "version": "3.8.13"
  }
 },
 "nbformat": 4,
 "nbformat_minor": 5
}